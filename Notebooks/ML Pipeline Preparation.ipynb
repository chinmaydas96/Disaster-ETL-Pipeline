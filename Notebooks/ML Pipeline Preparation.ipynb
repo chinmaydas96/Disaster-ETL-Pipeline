{
 "cells": [
  {
   "cell_type": "markdown",
   "metadata": {},
   "source": [
    "# ML Pipeline Preparation\n",
    "Follow the instructions below to help you create your ML pipeline.\n",
    "### 1. Import libraries and load data from database.\n",
    "- Import Python libraries\n",
    "- Load dataset from database with [`read_sql_table`](https://pandas.pydata.org/pandas-docs/stable/generated/pandas.read_sql_table.html)\n",
    "- Define feature and target variables X and Y"
   ]
  },
  {
   "cell_type": "code",
   "execution_count": 1,
   "metadata": {},
   "outputs": [],
   "source": [
    "# import libraries\n",
    "import pandas as pd\n",
    "from sqlalchemy import create_engine\n",
    "import nltk\n",
    "from nltk.tokenize import word_tokenize\n",
    "from nltk.corpus import stopwords\n",
    "from nltk.stem.porter import PorterStemmer\n",
    "import re"
   ]
  },
  {
   "cell_type": "code",
   "execution_count": 2,
   "metadata": {},
   "outputs": [],
   "source": [
    "# load data from database\n",
    "engine = create_engine('sqlite:///InsertDatabaseName.db')\n",
    "df = pd.read_sql('InsertTableName', engine)\n",
    "X = df['message']\n",
    "y = df.iloc[:,4:]"
   ]
  },
  {
   "cell_type": "code",
   "execution_count": 3,
   "metadata": {},
   "outputs": [],
   "source": [
    "categories_name = y.columns.tolist()"
   ]
  },
  {
   "cell_type": "markdown",
   "metadata": {},
   "source": [
    "### 2. Write a tokenization function to process your text data"
   ]
  },
  {
   "cell_type": "code",
   "execution_count": 4,
   "metadata": {},
   "outputs": [],
   "source": [
    "def tokenize(text):\n",
    "    \n",
    "    text = text.lower()\n",
    "    stop_words = set(stopwords.words('english'))\n",
    "    porter = PorterStemmer()\n",
    "    \n",
    "    result = re.sub(r'\\d+', '', text)\n",
    "    tokens = word_tokenize(result)\n",
    "    rm_pun= [word for word in tokens if word.isalnum()]\n",
    "    tokens = [w for w in rm_pun if not w in stop_words]\n",
    "    clean_tokens = [porter.stem(t) for t in tokens]\n",
    "    #clean_text = ' '.join(clean_tokens)\n",
    "    \n",
    "    return clean_tokens\n"
   ]
  },
  {
   "cell_type": "code",
   "execution_count": 5,
   "metadata": {},
   "outputs": [],
   "source": [
    "#X_cleaned = X.apply(tokenize)"
   ]
  },
  {
   "cell_type": "markdown",
   "metadata": {},
   "source": [
    "### 3. Build a machine learning pipeline\n",
    "This machine pipeline should take in the `message` column as input and output classification results on the other 36 categories in the dataset. You may find the [MultiOutputClassifier](http://scikit-learn.org/stable/modules/generated/sklearn.multioutput.MultiOutputClassifier.html) helpful for predicting multiple target variables."
   ]
  },
  {
   "cell_type": "code",
   "execution_count": 6,
   "metadata": {},
   "outputs": [],
   "source": [
    "from sklearn.ensemble import RandomForestClassifier\n",
    "from sklearn.multioutput import MultiOutputClassifier\n",
    "from sklearn.pipeline import Pipeline\n",
    "from sklearn.feature_extraction.text import CountVectorizer\n",
    "from sklearn.feature_extraction.text import TfidfVectorizer\n",
    "from sklearn.model_selection import GridSearchCV, train_test_split\n",
    "\n",
    "import numpy as np"
   ]
  },
  {
   "cell_type": "code",
   "execution_count": 7,
   "metadata": {},
   "outputs": [],
   "source": [
    "# Number of trees in random forest\n",
    "n_estimators = [int(x) for x in np.linspace(start = 200, stop = 2000, num = 10)]\n",
    "# Number of features to consider at every split\n",
    "max_features = ['auto', 'sqrt']\n",
    "# Maximum number of levels in tree\n",
    "max_depth = [int(x) for x in np.linspace(10, 110, num = 11)]\n",
    "max_depth.append(None)\n",
    "# Minimum number of samples required to split a node\n",
    "min_samples_split = [2, 5, 10]\n",
    "# Minimum number of samples required at each leaf node\n",
    "min_samples_leaf = [1, 2, 4]\n",
    "# Method of selecting samples for training each tree\n",
    "#bootstrap = [True, False]\n",
    "# Create the random grid\n",
    "random_grid = {'n_estimators': n_estimators,\n",
    "               'max_features': max_features,\n",
    "               'max_depth': max_depth,\n",
    "               'min_samples_split': min_samples_split,\n",
    "               'min_samples_leaf': min_samples_leaf}\n",
    "               #,\n",
    "               #'bootstrap': bootstrap}"
   ]
  },
  {
   "cell_type": "code",
   "execution_count": 8,
   "metadata": {},
   "outputs": [],
   "source": [
    "pipeline =  Pipeline([\n",
    "     ('tfidf', TfidfVectorizer(tokenizer=tokenize)),\n",
    "     ('clf', MultiOutputClassifier(RandomForestClassifier())),\n",
    " ])"
   ]
  },
  {
   "cell_type": "markdown",
   "metadata": {},
   "source": [
    "### 4. Train pipeline\n",
    "- Split data into train and test sets\n",
    "- Train pipeline"
   ]
  },
  {
   "cell_type": "code",
   "execution_count": 9,
   "metadata": {},
   "outputs": [],
   "source": [
    "X_train, X_test, y_train,y_test = train_test_split(X,y,test_size=0.25,random_state=42)"
   ]
  },
  {
   "cell_type": "code",
   "execution_count": 10,
   "metadata": {},
   "outputs": [
    {
     "data": {
      "text/plain": [
       "Pipeline(memory=None,\n",
       "         steps=[('tfidf',\n",
       "                 TfidfVectorizer(analyzer='word', binary=False,\n",
       "                                 decode_error='strict',\n",
       "                                 dtype=<class 'numpy.float64'>,\n",
       "                                 encoding='utf-8', input='content',\n",
       "                                 lowercase=True, max_df=1.0, max_features=None,\n",
       "                                 min_df=1, ngram_range=(1, 1), norm='l2',\n",
       "                                 preprocessor=None, smooth_idf=True,\n",
       "                                 stop_words=None, strip_accents=None,\n",
       "                                 sublinear_tf=False,\n",
       "                                 token_pattern='...\n",
       "                                                                        ccp_alpha=0.0,\n",
       "                                                                        class_weight=None,\n",
       "                                                                        criterion='gini',\n",
       "                                                                        max_depth=None,\n",
       "                                                                        max_features='auto',\n",
       "                                                                        max_leaf_nodes=None,\n",
       "                                                                        max_samples=None,\n",
       "                                                                        min_impurity_decrease=0.0,\n",
       "                                                                        min_impurity_split=None,\n",
       "                                                                        min_samples_leaf=1,\n",
       "                                                                        min_samples_split=2,\n",
       "                                                                        min_weight_fraction_leaf=0.0,\n",
       "                                                                        n_estimators=100,\n",
       "                                                                        n_jobs=None,\n",
       "                                                                        oob_score=False,\n",
       "                                                                        random_state=None,\n",
       "                                                                        verbose=0,\n",
       "                                                                        warm_start=False),\n",
       "                                       n_jobs=None))],\n",
       "         verbose=False)"
      ]
     },
     "execution_count": 10,
     "metadata": {},
     "output_type": "execute_result"
    }
   ],
   "source": [
    "pipeline.fit(X_train, y_train)"
   ]
  },
  {
   "cell_type": "markdown",
   "metadata": {},
   "source": [
    "### 5. Test your model\n",
    "Report the f1 score, precision and recall for each output category of the dataset. You can do this by iterating through the columns and calling sklearn's `classification_report` on each."
   ]
  },
  {
   "cell_type": "code",
   "execution_count": 11,
   "metadata": {},
   "outputs": [],
   "source": [
    "y_pred = pipeline.predict(X_test)"
   ]
  },
  {
   "cell_type": "code",
   "execution_count": 12,
   "metadata": {},
   "outputs": [],
   "source": [
    "from sklearn.metrics import classification_report,accuracy_score,precision_score,recall_score"
   ]
  },
  {
   "cell_type": "code",
   "execution_count": 13,
   "metadata": {},
   "outputs": [
    {
     "name": "stdout",
     "output_type": "stream",
     "text": [
      "Accuracy:  0.15698924731182795\n",
      "Precision:  0.4153669060278082\n",
      "Recall:  0.2886698545915878\n"
     ]
    },
    {
     "name": "stderr",
     "output_type": "stream",
     "text": [
      "/Users/bat/miniconda3/lib/python3.7/site-packages/sklearn/metrics/_classification.py:1272: UndefinedMetricWarning: Precision is ill-defined and being set to 0.0 in labels with no predicted samples. Use `zero_division` parameter to control this behavior.\n",
      "  _warn_prf(average, modifier, msg_start, len(result))\n",
      "/Users/bat/miniconda3/lib/python3.7/site-packages/sklearn/metrics/_classification.py:1272: UndefinedMetricWarning: Recall is ill-defined and being set to 0.0 in labels with no true samples. Use `zero_division` parameter to control this behavior.\n",
      "  _warn_prf(average, modifier, msg_start, len(result))\n"
     ]
    }
   ],
   "source": [
    "print('Accuracy: ', accuracy_score(y_test, y_pred))\n",
    "print('Precision: ', precision_score(y_test, y_pred, average='weighted'))\n",
    "print('Recall: ', recall_score(y_test, y_pred, average='weighted'))"
   ]
  },
  {
   "cell_type": "code",
   "execution_count": 14,
   "metadata": {},
   "outputs": [
    {
     "name": "stdout",
     "output_type": "stream",
     "text": [
      "related\n",
      "              precision    recall  f1-score   support\n",
      "\n",
      "         0.0       0.38      0.07      0.12      1615\n",
      "         1.0       0.76      0.96      0.85      4895\n",
      "\n",
      "    accuracy                           0.74      6510\n",
      "   macro avg       0.57      0.52      0.48      6510\n",
      "weighted avg       0.67      0.74      0.67      6510\n",
      "\n",
      "request\n",
      "              precision    recall  f1-score   support\n",
      "\n",
      "         0.0       0.83      0.98      0.90      5372\n",
      "         1.0       0.45      0.06      0.11      1138\n",
      "\n",
      "    accuracy                           0.82      6510\n",
      "   macro avg       0.64      0.52      0.50      6510\n",
      "weighted avg       0.77      0.82      0.76      6510\n",
      "\n",
      "offer\n",
      "              precision    recall  f1-score   support\n",
      "\n",
      "         0.0       1.00      1.00      1.00      6478\n",
      "         1.0       0.00      0.00      0.00        32\n",
      "\n",
      "    accuracy                           1.00      6510\n",
      "   macro avg       0.50      0.50      0.50      6510\n",
      "weighted avg       0.99      1.00      0.99      6510\n",
      "\n",
      "aid_related\n",
      "              precision    recall  f1-score   support\n",
      "\n",
      "         0.0       0.61      0.83      0.70      3842\n",
      "         1.0       0.48      0.22      0.31      2668\n",
      "\n",
      "    accuracy                           0.58      6510\n",
      "   macro avg       0.54      0.53      0.50      6510\n",
      "weighted avg       0.56      0.58      0.54      6510\n",
      "\n",
      "medical_help\n",
      "              precision    recall  f1-score   support\n",
      "\n",
      "         0.0       0.92      0.99      0.96      6003\n",
      "         1.0       0.02      0.00      0.00       507\n",
      "\n",
      "    accuracy                           0.92      6510\n",
      "   macro avg       0.47      0.50      0.48      6510\n",
      "weighted avg       0.85      0.92      0.88      6510\n",
      "\n",
      "medical_products\n"
     ]
    },
    {
     "name": "stderr",
     "output_type": "stream",
     "text": [
      "/Users/bat/miniconda3/lib/python3.7/site-packages/sklearn/metrics/_classification.py:1272: UndefinedMetricWarning: Precision and F-score are ill-defined and being set to 0.0 in labels with no predicted samples. Use `zero_division` parameter to control this behavior.\n",
      "  _warn_prf(average, modifier, msg_start, len(result))\n"
     ]
    },
    {
     "name": "stdout",
     "output_type": "stream",
     "text": [
      "              precision    recall  f1-score   support\n",
      "\n",
      "         0.0       0.95      1.00      0.97      6183\n",
      "         1.0       0.12      0.01      0.01       327\n",
      "\n",
      "    accuracy                           0.95      6510\n",
      "   macro avg       0.53      0.50      0.49      6510\n",
      "weighted avg       0.91      0.95      0.92      6510\n",
      "\n",
      "search_and_rescue\n",
      "              precision    recall  f1-score   support\n",
      "\n",
      "         0.0       0.97      1.00      0.98      6310\n",
      "         1.0       0.00      0.00      0.00       200\n",
      "\n",
      "    accuracy                           0.97      6510\n",
      "   macro avg       0.48      0.50      0.49      6510\n",
      "weighted avg       0.94      0.97      0.95      6510\n",
      "\n",
      "security\n",
      "              precision    recall  f1-score   support\n",
      "\n",
      "         0.0       0.98      1.00      0.99      6385\n",
      "         1.0       0.00      0.00      0.00       125\n",
      "\n",
      "    accuracy                           0.98      6510\n",
      "   macro avg       0.49      0.50      0.50      6510\n",
      "weighted avg       0.96      0.98      0.97      6510\n",
      "\n",
      "military\n",
      "              precision    recall  f1-score   support\n",
      "\n",
      "         0.0       0.97      1.00      0.98      6313\n",
      "         1.0       0.00      0.00      0.00       197\n",
      "\n",
      "    accuracy                           0.97      6510\n",
      "   macro avg       0.48      0.50      0.49      6510\n",
      "weighted avg       0.94      0.97      0.95      6510\n",
      "\n",
      "child_alone\n",
      "              precision    recall  f1-score   support\n",
      "\n",
      "         0.0       1.00      1.00      1.00      6510\n",
      "\n",
      "    accuracy                           1.00      6510\n",
      "   macro avg       1.00      1.00      1.00      6510\n",
      "weighted avg       1.00      1.00      1.00      6510\n",
      "\n",
      "water\n",
      "              precision    recall  f1-score   support\n",
      "\n",
      "         0.0       0.94      1.00      0.97      6098\n",
      "         1.0       0.05      0.00      0.00       412\n",
      "\n",
      "    accuracy                           0.93      6510\n",
      "   macro avg       0.49      0.50      0.49      6510\n",
      "weighted avg       0.88      0.93      0.91      6510\n",
      "\n",
      "food\n",
      "              precision    recall  f1-score   support\n",
      "\n",
      "         0.0       0.89      0.99      0.94      5784\n",
      "         1.0       0.17      0.01      0.02       726\n",
      "\n",
      "    accuracy                           0.88      6510\n",
      "   macro avg       0.53      0.50      0.48      6510\n",
      "weighted avg       0.81      0.88      0.84      6510\n",
      "\n",
      "shelter\n",
      "              precision    recall  f1-score   support\n",
      "\n",
      "         0.0       0.91      0.99      0.95      5925\n",
      "         1.0       0.11      0.01      0.01       585\n",
      "\n",
      "    accuracy                           0.91      6510\n",
      "   macro avg       0.51      0.50      0.48      6510\n",
      "weighted avg       0.84      0.91      0.87      6510\n",
      "\n",
      "clothing\n",
      "              precision    recall  f1-score   support\n",
      "\n",
      "         0.0       0.99      1.00      0.99      6417\n",
      "         1.0       0.00      0.00      0.00        93\n",
      "\n",
      "    accuracy                           0.99      6510\n",
      "   macro avg       0.49      0.50      0.50      6510\n",
      "weighted avg       0.97      0.99      0.98      6510\n",
      "\n",
      "money\n",
      "              precision    recall  f1-score   support\n",
      "\n",
      "         0.0       0.98      1.00      0.99      6357\n",
      "         1.0       0.00      0.00      0.00       153\n",
      "\n",
      "    accuracy                           0.98      6510\n",
      "   macro avg       0.49      0.50      0.49      6510\n",
      "weighted avg       0.95      0.98      0.96      6510\n",
      "\n",
      "missing_people\n",
      "              precision    recall  f1-score   support\n",
      "\n",
      "         0.0       0.99      1.00      0.99      6427\n",
      "         1.0       0.00      0.00      0.00        83\n",
      "\n",
      "    accuracy                           0.99      6510\n",
      "   macro avg       0.49      0.50      0.50      6510\n",
      "weighted avg       0.97      0.99      0.98      6510\n",
      "\n",
      "refugees\n",
      "              precision    recall  f1-score   support\n",
      "\n",
      "         0.0       0.97      1.00      0.98      6296\n",
      "         1.0       0.00      0.00      0.00       214\n",
      "\n",
      "    accuracy                           0.97      6510\n",
      "   macro avg       0.48      0.50      0.49      6510\n",
      "weighted avg       0.94      0.97      0.95      6510\n",
      "\n",
      "death\n",
      "              precision    recall  f1-score   support\n",
      "\n",
      "         0.0       0.96      1.00      0.98      6231\n",
      "         1.0       0.00      0.00      0.00       279\n",
      "\n",
      "    accuracy                           0.96      6510\n",
      "   macro avg       0.48      0.50      0.49      6510\n",
      "weighted avg       0.92      0.96      0.94      6510\n",
      "\n",
      "other_aid\n",
      "              precision    recall  f1-score   support\n",
      "\n",
      "         0.0       0.87      0.99      0.93      5657\n",
      "         1.0       0.16      0.01      0.02       853\n",
      "\n",
      "    accuracy                           0.86      6510\n",
      "   macro avg       0.52      0.50      0.47      6510\n",
      "weighted avg       0.78      0.86      0.81      6510\n",
      "\n",
      "infrastructure_related\n",
      "              precision    recall  f1-score   support\n",
      "\n",
      "         0.0       0.94      1.00      0.97      6099\n",
      "         1.0       0.04      0.00      0.00       411\n",
      "\n",
      "    accuracy                           0.93      6510\n",
      "   macro avg       0.49      0.50      0.49      6510\n",
      "weighted avg       0.88      0.93      0.91      6510\n",
      "\n",
      "transport\n",
      "              precision    recall  f1-score   support\n",
      "\n",
      "         0.0       0.96      1.00      0.98      6241\n",
      "         1.0       0.00      0.00      0.00       269\n",
      "\n",
      "    accuracy                           0.96      6510\n",
      "   macro avg       0.48      0.50      0.49      6510\n",
      "weighted avg       0.92      0.96      0.94      6510\n",
      "\n",
      "buildings\n",
      "              precision    recall  f1-score   support\n",
      "\n",
      "         0.0       0.95      1.00      0.97      6192\n",
      "         1.0       0.14      0.01      0.02       318\n",
      "\n",
      "    accuracy                           0.95      6510\n",
      "   macro avg       0.54      0.50      0.50      6510\n",
      "weighted avg       0.91      0.95      0.93      6510\n",
      "\n",
      "electricity\n",
      "              precision    recall  f1-score   support\n",
      "\n",
      "         0.0       0.98      1.00      0.99      6382\n",
      "         1.0       0.00      0.00      0.00       128\n",
      "\n",
      "    accuracy                           0.98      6510\n",
      "   macro avg       0.49      0.50      0.50      6510\n",
      "weighted avg       0.96      0.98      0.97      6510\n",
      "\n",
      "tools\n",
      "              precision    recall  f1-score   support\n",
      "\n",
      "         0.0       0.99      1.00      1.00      6469\n",
      "         1.0       0.00      0.00      0.00        41\n",
      "\n",
      "    accuracy                           0.99      6510\n",
      "   macro avg       0.50      0.50      0.50      6510\n",
      "weighted avg       0.99      0.99      0.99      6510\n",
      "\n",
      "hospitals\n",
      "              precision    recall  f1-score   support\n",
      "\n",
      "         0.0       0.99      1.00      0.99      6438\n",
      "         1.0       0.00      0.00      0.00        72\n",
      "\n",
      "    accuracy                           0.99      6510\n",
      "   macro avg       0.49      0.50      0.50      6510\n",
      "weighted avg       0.98      0.99      0.98      6510\n",
      "\n",
      "shops\n",
      "              precision    recall  f1-score   support\n",
      "\n",
      "         0.0       1.00      1.00      1.00      6481\n",
      "         1.0       0.00      0.00      0.00        29\n",
      "\n",
      "    accuracy                           1.00      6510\n",
      "   macro avg       0.50      0.50      0.50      6510\n",
      "weighted avg       0.99      1.00      0.99      6510\n",
      "\n",
      "aid_centers\n",
      "              precision    recall  f1-score   support\n",
      "\n",
      "         0.0       0.99      1.00      0.99      6438\n",
      "         1.0       0.00      0.00      0.00        72\n",
      "\n",
      "    accuracy                           0.99      6510\n",
      "   macro avg       0.49      0.50      0.50      6510\n",
      "weighted avg       0.98      0.99      0.98      6510\n",
      "\n",
      "other_infrastructure\n",
      "              precision    recall  f1-score   support\n",
      "\n",
      "         0.0       0.96      1.00      0.98      6232\n",
      "         1.0       0.20      0.00      0.01       278\n",
      "\n",
      "    accuracy                           0.96      6510\n",
      "   macro avg       0.58      0.50      0.49      6510\n",
      "weighted avg       0.93      0.96      0.94      6510\n",
      "\n",
      "weather_related\n",
      "              precision    recall  f1-score   support\n",
      "\n",
      "         0.0       0.75      0.95      0.84      4702\n",
      "         1.0       0.58      0.18      0.27      1808\n",
      "\n",
      "    accuracy                           0.74      6510\n",
      "   macro avg       0.66      0.56      0.55      6510\n",
      "weighted avg       0.70      0.74      0.68      6510\n",
      "\n",
      "floods\n",
      "              precision    recall  f1-score   support\n",
      "\n",
      "         0.0       0.92      1.00      0.96      5975\n",
      "         1.0       0.14      0.00      0.01       535\n",
      "\n",
      "    accuracy                           0.92      6510\n",
      "   macro avg       0.53      0.50      0.48      6510\n",
      "weighted avg       0.85      0.92      0.88      6510\n",
      "\n",
      "storm\n",
      "              precision    recall  f1-score   support\n",
      "\n",
      "         0.0       0.91      1.00      0.95      5912\n",
      "         1.0       0.57      0.03      0.06       598\n",
      "\n",
      "    accuracy                           0.91      6510\n",
      "   macro avg       0.74      0.52      0.51      6510\n",
      "weighted avg       0.88      0.91      0.87      6510\n",
      "\n",
      "fire\n",
      "              precision    recall  f1-score   support\n",
      "\n",
      "         0.0       0.99      1.00      1.00      6448\n",
      "         1.0       0.00      0.00      0.00        62\n",
      "\n",
      "    accuracy                           0.99      6510\n",
      "   macro avg       0.50      0.50      0.50      6510\n",
      "weighted avg       0.98      0.99      0.99      6510\n",
      "\n",
      "earthquake\n",
      "              precision    recall  f1-score   support\n",
      "\n",
      "         0.0       0.92      0.99      0.95      5894\n",
      "         1.0       0.63      0.18      0.27       616\n",
      "\n",
      "    accuracy                           0.91      6510\n",
      "   macro avg       0.78      0.58      0.61      6510\n",
      "weighted avg       0.89      0.91      0.89      6510\n",
      "\n",
      "cold\n",
      "              precision    recall  f1-score   support\n",
      "\n",
      "         0.0       0.98      1.00      0.99      6372\n",
      "         1.0       0.00      0.00      0.00       138\n",
      "\n",
      "    accuracy                           0.98      6510\n",
      "   macro avg       0.49      0.50      0.49      6510\n",
      "weighted avg       0.96      0.98      0.97      6510\n",
      "\n",
      "other_weather\n"
     ]
    },
    {
     "name": "stdout",
     "output_type": "stream",
     "text": [
      "              precision    recall  f1-score   support\n",
      "\n",
      "         0.0       0.95      1.00      0.97      6162\n",
      "         1.0       0.14      0.00      0.01       348\n",
      "\n",
      "    accuracy                           0.95      6510\n",
      "   macro avg       0.54      0.50      0.49      6510\n",
      "weighted avg       0.90      0.95      0.92      6510\n",
      "\n",
      "direct_report\n",
      "              precision    recall  f1-score   support\n",
      "\n",
      "         0.0       0.81      0.99      0.89      5226\n",
      "         1.0       0.46      0.04      0.08      1284\n",
      "\n",
      "    accuracy                           0.80      6510\n",
      "   macro avg       0.63      0.52      0.48      6510\n",
      "weighted avg       0.74      0.80      0.73      6510\n",
      "\n"
     ]
    }
   ],
   "source": [
    "for i, col in enumerate(y_test):\n",
    "    print(col)\n",
    "    print(classification_report(y_test[col], y_pred[:, i]),)"
   ]
  },
  {
   "cell_type": "markdown",
   "metadata": {},
   "source": [
    "### 6. Improve your model\n",
    "Use grid search to find better parameters. "
   ]
  },
  {
   "cell_type": "code",
   "execution_count": 15,
   "metadata": {},
   "outputs": [],
   "source": [
    "from sklearn.model_selection import GridSearchCV"
   ]
  },
  {
   "cell_type": "code",
   "execution_count": 16,
   "metadata": {},
   "outputs": [],
   "source": [
    "parameters = {\n",
    "        \"clf__estimator__n_estimators\": [15, 20, 35, 50, 100],\n",
    "        \"clf__estimator__max_depth\": [None, 50, 100],\n",
    "        \"clf__estimator__max_features\": [\"sqrt\", \"auto\"]\n",
    "    }\n",
    "cv = GridSearchCV(pipeline, parameters, cv=3, n_jobs=-1)"
   ]
  },
  {
   "cell_type": "code",
   "execution_count": 17,
   "metadata": {},
   "outputs": [
    {
     "data": {
      "text/plain": [
       "dict_keys(['memory', 'steps', 'verbose', 'tfidf', 'clf', 'tfidf__analyzer', 'tfidf__binary', 'tfidf__decode_error', 'tfidf__dtype', 'tfidf__encoding', 'tfidf__input', 'tfidf__lowercase', 'tfidf__max_df', 'tfidf__max_features', 'tfidf__min_df', 'tfidf__ngram_range', 'tfidf__norm', 'tfidf__preprocessor', 'tfidf__smooth_idf', 'tfidf__stop_words', 'tfidf__strip_accents', 'tfidf__sublinear_tf', 'tfidf__token_pattern', 'tfidf__tokenizer', 'tfidf__use_idf', 'tfidf__vocabulary', 'clf__estimator__bootstrap', 'clf__estimator__ccp_alpha', 'clf__estimator__class_weight', 'clf__estimator__criterion', 'clf__estimator__max_depth', 'clf__estimator__max_features', 'clf__estimator__max_leaf_nodes', 'clf__estimator__max_samples', 'clf__estimator__min_impurity_decrease', 'clf__estimator__min_impurity_split', 'clf__estimator__min_samples_leaf', 'clf__estimator__min_samples_split', 'clf__estimator__min_weight_fraction_leaf', 'clf__estimator__n_estimators', 'clf__estimator__n_jobs', 'clf__estimator__oob_score', 'clf__estimator__random_state', 'clf__estimator__verbose', 'clf__estimator__warm_start', 'clf__estimator', 'clf__n_jobs'])"
      ]
     },
     "execution_count": 17,
     "metadata": {},
     "output_type": "execute_result"
    }
   ],
   "source": [
    "pipeline.get_params().keys()"
   ]
  },
  {
   "cell_type": "code",
   "execution_count": null,
   "metadata": {},
   "outputs": [],
   "source": [
    "cv.fit(X_train, y_train)"
   ]
  },
  {
   "cell_type": "markdown",
   "metadata": {},
   "source": [
    "### 7. Test your model\n",
    "Show the accuracy, precision, and recall of the tuned model.  \n",
    "\n",
    "Since this project focuses on code quality, process, and  pipelines, there is no minimum performance metric needed to pass. However, make sure to fine tune your models for accuracy, precision and recall to make your project stand out - especially for your portfolio!"
   ]
  },
  {
   "cell_type": "code",
   "execution_count": null,
   "metadata": {},
   "outputs": [],
   "source": [
    "y_pred = cv.predict(X_test)"
   ]
  },
  {
   "cell_type": "code",
   "execution_count": null,
   "metadata": {},
   "outputs": [],
   "source": [
    "print('Accuracy: ', accuracy_score(y_test, y_pred))\n",
    "print('Precision: ', precision_score(y_test, y_pred, average='weighted'))\n",
    "print('Recall: ', recall_score(y_test, y_pred, average='weighted'))"
   ]
  },
  {
   "cell_type": "code",
   "execution_count": null,
   "metadata": {},
   "outputs": [],
   "source": [
    "for i, col in enumerate(y_test):\n",
    "    print(col)\n",
    "    print(classification_report(y_test[col], y_pred[:, i]))"
   ]
  },
  {
   "cell_type": "markdown",
   "metadata": {},
   "source": [
    "### 8. Try improving your model further. Here are a few ideas:\n",
    "* try other machine learning algorithms\n",
    "* add other features besides the TF-IDF"
   ]
  },
  {
   "cell_type": "code",
   "execution_count": null,
   "metadata": {},
   "outputs": [],
   "source": [
    "from sklearn.ensemble import AdaBoostClassifier"
   ]
  },
  {
   "cell_type": "code",
   "execution_count": null,
   "metadata": {},
   "outputs": [],
   "source": [
    "pipeline =  Pipeline([\n",
    "     ('tfidf', TfidfVectorizer(tokenizer=tokenize)),\n",
    "     ('clf', MultiOutputClassifier(AdaBoostClassifier())),\n",
    " ])"
   ]
  },
  {
   "cell_type": "code",
   "execution_count": null,
   "metadata": {},
   "outputs": [],
   "source": [
    "pipeline.fit(X_train,y_train)"
   ]
  },
  {
   "cell_type": "code",
   "execution_count": null,
   "metadata": {},
   "outputs": [],
   "source": [
    "y_pred = pipeline.predict(X_test)"
   ]
  },
  {
   "cell_type": "code",
   "execution_count": null,
   "metadata": {},
   "outputs": [],
   "source": [
    "print('Accuracy: ', accuracy_score(y_test, y_pred))\n",
    "print('Precision: ', precision_score(y_test, y_pred, average='weighted'))\n",
    "print('Recall: ', recall_score(y_test, y_pred, average='weighted'))"
   ]
  },
  {
   "cell_type": "code",
   "execution_count": null,
   "metadata": {},
   "outputs": [],
   "source": [
    "for i, col in enumerate(y_test):\n",
    "    print(col)\n",
    "    print(classification_report(y_test[col], y_pred[:, i]))"
   ]
  },
  {
   "cell_type": "markdown",
   "metadata": {},
   "source": [
    "### 9. Export your model as a pickle file"
   ]
  },
  {
   "cell_type": "code",
   "execution_count": null,
   "metadata": {},
   "outputs": [],
   "source": [
    "import joblib\n",
    "filename = 'saved_model.pkl'\n",
    "joblib.dump(cv.best_estimator_, filename)"
   ]
  },
  {
   "cell_type": "markdown",
   "metadata": {},
   "source": [
    "### 10. Use this notebook to complete `train.py`\n",
    "Use the template file attached in the Resources folder to write a script that runs the steps above to create a database and export a model based on a new dataset specified by the user."
   ]
  },
  {
   "cell_type": "code",
   "execution_count": null,
   "metadata": {},
   "outputs": [],
   "source": []
  }
 ],
 "metadata": {
  "kernelspec": {
   "display_name": "Python 3",
   "language": "python",
   "name": "python3"
  },
  "language_info": {
   "codemirror_mode": {
    "name": "ipython",
    "version": 3
   },
   "file_extension": ".py",
   "mimetype": "text/x-python",
   "name": "python",
   "nbconvert_exporter": "python",
   "pygments_lexer": "ipython3",
   "version": "3.7.4"
  }
 },
 "nbformat": 4,
 "nbformat_minor": 2
}
